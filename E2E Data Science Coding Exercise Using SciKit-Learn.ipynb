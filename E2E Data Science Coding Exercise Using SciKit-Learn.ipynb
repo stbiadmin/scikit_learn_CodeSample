{
 "cells": [
  {
   "cell_type": "markdown",
   "metadata": {},
   "source": [
    "# Preamble\n",
    "\n",
    "\n",
    "**NOTE:** These are libraries that I've found useful for data analysis and Machine Learning.  Not all will necessarily be used during this exercise and this list would be curated, should this code ever need to be optimized for deployment/productionalization \n"
   ]
  },
  {
   "cell_type": "code",
   "execution_count": 4,
   "metadata": {
    "collapsed": true
   },
   "outputs": [],
   "source": [
    "from pygeocoder import Geocoder\n",
    "from sklearn.model_selection import train_test_split\n",
    "from sklearn.cluster import KMeans\n",
    "from sklearn.neighbors import KNeighborsClassifier\n",
    "from sklearn.linear_model import LogisticRegression\n",
    "from sklearn.ensemble import RandomForestClassifier\n",
    "from sklearn.ensemble import GradientBoostingClassifier\n",
    "from adspy_shared_utilities import plot_labelled_scatter\n",
    "from sklearn.preprocessing import MinMaxScaler\n",
    "from scipy import stats\n",
    "import re\n",
    "import pandas as pd\n",
    "import numpy as np\n",
    "import seaborn as sn\n",
    "import matplotlib.pyplot as plt\n",
    "from matplotlib import cm \n",
    "%matplotlib inline\n"
   ]
  },
  {
   "cell_type": "markdown",
   "metadata": {},
   "source": [
    "# Brainstorming and Exploration"
   ]
  },
  {
   "cell_type": "markdown",
   "metadata": {},
   "source": [
    "The first task is to join the tables in a meaningful way, so before I can do that we need to take a look at the data dictionary, for hints.  From the given text file:\n",
    "\n",
    "* **delivery_geography**\n",
    "    * order_id: unique identifier per order (int)\n",
    "    * latitude: delivery location (degrees)\n",
    "    * longitude: delivery location (degrees)\n",
    "    * estimateddeliverytime: an estimate of how long a delivery took (seconds)\n",
    "    \n",
    "* **delivery_prices**\n",
    "    * order_id: unique identifier per order (int)\n",
    "    * deliveredat: time delivered (timestamp)\n",
    "    * totalprice: total product price (USD)\n",
    "\n",
    "Since both files have the order_id column in common, we can start there as the key for the join.  However, this unmasks our first decision point: At this point, I have no idea (beyond intuition) how the data should be organized for the Machine Learning task that is ultimately the goal.   \n",
    "\n",
    "As a result, it's difficult to know if I should perform a Left or Right join (which would return matches for both tables) or a full outer join (which would essentially just append the two tables together with null values in place for missing records).  A L/R join seems intuitive because of the table structures, but if I later want **ALL** of the records to be included in a ML analysis, I could impute values for the missing records.  \n",
    "\n",
    "To move forward, I'll just perform all 3 join types (L,R, Full) and store them in separate data fames.\n"
   ]
  },
  {
   "cell_type": "markdown",
   "metadata": {},
   "source": [
    "## Loading Data"
   ]
  },
  {
   "cell_type": "code",
   "execution_count": 5,
   "metadata": {
    "collapsed": true
   },
   "outputs": [],
   "source": [
    "geography = pd.read_csv('delivery_geography.csv')\n",
    "prices = pd.read_csv('delivery_prices.csv')"
   ]
  },
  {
   "cell_type": "code",
   "execution_count": 6,
   "metadata": {},
   "outputs": [
    {
     "data": {
      "text/html": [
       "<div>\n",
       "<table border=\"1\" class=\"dataframe\">\n",
       "  <thead>\n",
       "    <tr style=\"text-align: right;\">\n",
       "      <th></th>\n",
       "      <th>orderid</th>\n",
       "      <th>latitude</th>\n",
       "      <th>longitude</th>\n",
       "      <th>estimateddeliverytime</th>\n",
       "    </tr>\n",
       "  </thead>\n",
       "  <tbody>\n",
       "    <tr>\n",
       "      <th>0</th>\n",
       "      <td>1552679</td>\n",
       "      <td>37.697073</td>\n",
       "      <td>-122.485903</td>\n",
       "      <td>259.0</td>\n",
       "    </tr>\n",
       "    <tr>\n",
       "      <th>1</th>\n",
       "      <td>1552697</td>\n",
       "      <td>37.782185</td>\n",
       "      <td>-122.454544</td>\n",
       "      <td>54.0</td>\n",
       "    </tr>\n",
       "    <tr>\n",
       "      <th>2</th>\n",
       "      <td>1552675</td>\n",
       "      <td>37.780840</td>\n",
       "      <td>-122.395820</td>\n",
       "      <td>228.0</td>\n",
       "    </tr>\n",
       "    <tr>\n",
       "      <th>3</th>\n",
       "      <td>1552934</td>\n",
       "      <td>37.783131</td>\n",
       "      <td>-122.388962</td>\n",
       "      <td>209.0</td>\n",
       "    </tr>\n",
       "    <tr>\n",
       "      <th>4</th>\n",
       "      <td>1552983</td>\n",
       "      <td>37.323786</td>\n",
       "      <td>-121.878904</td>\n",
       "      <td>345.0</td>\n",
       "    </tr>\n",
       "  </tbody>\n",
       "</table>\n",
       "</div>"
      ],
      "text/plain": [
       "   orderid   latitude   longitude  estimateddeliverytime\n",
       "0  1552679  37.697073 -122.485903                  259.0\n",
       "1  1552697  37.782185 -122.454544                   54.0\n",
       "2  1552675  37.780840 -122.395820                  228.0\n",
       "3  1552934  37.783131 -122.388962                  209.0\n",
       "4  1552983  37.323786 -121.878904                  345.0"
      ]
     },
     "execution_count": 6,
     "metadata": {},
     "output_type": "execute_result"
    }
   ],
   "source": [
    "geography.head()"
   ]
  },
  {
   "cell_type": "code",
   "execution_count": 7,
   "metadata": {},
   "outputs": [
    {
     "data": {
      "text/html": [
       "<div>\n",
       "<table border=\"1\" class=\"dataframe\">\n",
       "  <thead>\n",
       "    <tr style=\"text-align: right;\">\n",
       "      <th></th>\n",
       "      <th>orderid</th>\n",
       "      <th>deliveredat</th>\n",
       "      <th>totalprice</th>\n",
       "    </tr>\n",
       "  </thead>\n",
       "  <tbody>\n",
       "    <tr>\n",
       "      <th>0</th>\n",
       "      <td>1552553</td>\n",
       "      <td>2017-08-08T00:02:29.980+00:00</td>\n",
       "      <td>176.11</td>\n",
       "    </tr>\n",
       "    <tr>\n",
       "      <th>1</th>\n",
       "      <td>1552559</td>\n",
       "      <td>2017-08-08T00:09:06.077+00:00</td>\n",
       "      <td>71.03</td>\n",
       "    </tr>\n",
       "    <tr>\n",
       "      <th>2</th>\n",
       "      <td>1552499</td>\n",
       "      <td>2017-08-08T00:15:03.847+00:00</td>\n",
       "      <td>61.95</td>\n",
       "    </tr>\n",
       "    <tr>\n",
       "      <th>3</th>\n",
       "      <td>1552617</td>\n",
       "      <td>2017-08-08T00:16:40.820+00:00</td>\n",
       "      <td>62.40</td>\n",
       "    </tr>\n",
       "    <tr>\n",
       "      <th>4</th>\n",
       "      <td>1552632</td>\n",
       "      <td>2017-08-08T00:31:27.957+00:00</td>\n",
       "      <td>64.16</td>\n",
       "    </tr>\n",
       "  </tbody>\n",
       "</table>\n",
       "</div>"
      ],
      "text/plain": [
       "   orderid                    deliveredat  totalprice\n",
       "0  1552553  2017-08-08T00:02:29.980+00:00      176.11\n",
       "1  1552559  2017-08-08T00:09:06.077+00:00       71.03\n",
       "2  1552499  2017-08-08T00:15:03.847+00:00       61.95\n",
       "3  1552617  2017-08-08T00:16:40.820+00:00       62.40\n",
       "4  1552632  2017-08-08T00:31:27.957+00:00       64.16"
      ]
     },
     "execution_count": 7,
     "metadata": {},
     "output_type": "execute_result"
    }
   ],
   "source": [
    "prices.head()"
   ]
  },
  {
   "cell_type": "markdown",
   "metadata": {},
   "source": [
    "## 1. Joining Tables"
   ]
  },
  {
   "cell_type": "markdown",
   "metadata": {},
   "source": [
    "As mentioned previously, there are a number of ways to join these tables. \n",
    "\n",
    "* We could complete an **inner join** which would provide us with a single combined table, where there is a match for orderid\n",
    "\n",
    "* We could simply append the two together in an **outer join**\n",
    "\n",
    "* We could determine that data from delivery_prices is relevant on its on but might be *enhanced* by data from delivery_geography and conduct a **right_join**\n",
    "\n",
    "Let's go ahead and conduct all three, and then complete some basic exploratory analysis to determine which join to use, going forward."
   ]
  },
  {
   "cell_type": "code",
   "execution_count": 8,
   "metadata": {},
   "outputs": [
    {
     "data": {
      "text/html": [
       "<div>\n",
       "<table border=\"1\" class=\"dataframe\">\n",
       "  <thead>\n",
       "    <tr style=\"text-align: right;\">\n",
       "      <th></th>\n",
       "      <th>orderid</th>\n",
       "      <th>latitude</th>\n",
       "      <th>longitude</th>\n",
       "      <th>estimateddeliverytime</th>\n",
       "      <th>deliveredat</th>\n",
       "      <th>totalprice</th>\n",
       "    </tr>\n",
       "  </thead>\n",
       "  <tbody>\n",
       "    <tr>\n",
       "      <th>634</th>\n",
       "      <td>1555849</td>\n",
       "      <td>37.642221</td>\n",
       "      <td>-122.434893</td>\n",
       "      <td>2.0</td>\n",
       "      <td>2017-08-08T21:43:10.347+00:00</td>\n",
       "      <td>73.00</td>\n",
       "    </tr>\n",
       "    <tr>\n",
       "      <th>2517</th>\n",
       "      <td>1554516</td>\n",
       "      <td>37.768533</td>\n",
       "      <td>-122.447082</td>\n",
       "      <td>242.0</td>\n",
       "      <td>2017-08-08T04:31:10.243+00:00</td>\n",
       "      <td>40.81</td>\n",
       "    </tr>\n",
       "    <tr>\n",
       "      <th>1012</th>\n",
       "      <td>1553231</td>\n",
       "      <td>32.797302</td>\n",
       "      <td>-117.253399</td>\n",
       "      <td>5.0</td>\n",
       "      <td>2017-08-08T01:51:58.517+00:00</td>\n",
       "      <td>49.95</td>\n",
       "    </tr>\n",
       "    <tr>\n",
       "      <th>1007</th>\n",
       "      <td>1552931</td>\n",
       "      <td>37.576229</td>\n",
       "      <td>-122.333806</td>\n",
       "      <td>2.0</td>\n",
       "      <td>2017-08-08T01:06:48.327+00:00</td>\n",
       "      <td>32.39</td>\n",
       "    </tr>\n",
       "    <tr>\n",
       "      <th>2194</th>\n",
       "      <td>1555452</td>\n",
       "      <td>37.433261</td>\n",
       "      <td>-122.128186</td>\n",
       "      <td>90.0</td>\n",
       "      <td>2017-08-08T19:33:15.133+00:00</td>\n",
       "      <td>32.24</td>\n",
       "    </tr>\n",
       "    <tr>\n",
       "      <th>1958</th>\n",
       "      <td>1556190</td>\n",
       "      <td>36.972029</td>\n",
       "      <td>-122.056035</td>\n",
       "      <td>191.0</td>\n",
       "      <td>2017-08-08T23:25:06.717+00:00</td>\n",
       "      <td>94.93</td>\n",
       "    </tr>\n",
       "    <tr>\n",
       "      <th>3103</th>\n",
       "      <td>1554479</td>\n",
       "      <td>32.744899</td>\n",
       "      <td>-117.210343</td>\n",
       "      <td>98.0</td>\n",
       "      <td>2017-08-08T04:36:55.953+00:00</td>\n",
       "      <td>102.19</td>\n",
       "    </tr>\n",
       "    <tr>\n",
       "      <th>258</th>\n",
       "      <td>1554520</td>\n",
       "      <td>37.581199</td>\n",
       "      <td>-122.369451</td>\n",
       "      <td>244.0</td>\n",
       "      <td>2017-08-08T04:29:01.977+00:00</td>\n",
       "      <td>61.01</td>\n",
       "    </tr>\n",
       "    <tr>\n",
       "      <th>2459</th>\n",
       "      <td>1555529</td>\n",
       "      <td>32.794921</td>\n",
       "      <td>-117.242919</td>\n",
       "      <td>170.0</td>\n",
       "      <td>2017-08-08T19:47:18.820+00:00</td>\n",
       "      <td>65.12</td>\n",
       "    </tr>\n",
       "    <tr>\n",
       "      <th>1800</th>\n",
       "      <td>1556084</td>\n",
       "      <td>37.734984</td>\n",
       "      <td>-122.134877</td>\n",
       "      <td>230.0</td>\n",
       "      <td>2017-08-08T23:04:48.933+00:00</td>\n",
       "      <td>117.06</td>\n",
       "    </tr>\n",
       "  </tbody>\n",
       "</table>\n",
       "</div>"
      ],
      "text/plain": [
       "      orderid   latitude   longitude  estimateddeliverytime  \\\n",
       "634   1555849  37.642221 -122.434893                    2.0   \n",
       "2517  1554516  37.768533 -122.447082                  242.0   \n",
       "1012  1553231  32.797302 -117.253399                    5.0   \n",
       "1007  1552931  37.576229 -122.333806                    2.0   \n",
       "2194  1555452  37.433261 -122.128186                   90.0   \n",
       "1958  1556190  36.972029 -122.056035                  191.0   \n",
       "3103  1554479  32.744899 -117.210343                   98.0   \n",
       "258   1554520  37.581199 -122.369451                  244.0   \n",
       "2459  1555529  32.794921 -117.242919                  170.0   \n",
       "1800  1556084  37.734984 -122.134877                  230.0   \n",
       "\n",
       "                        deliveredat  totalprice  \n",
       "634   2017-08-08T21:43:10.347+00:00       73.00  \n",
       "2517  2017-08-08T04:31:10.243+00:00       40.81  \n",
       "1012  2017-08-08T01:51:58.517+00:00       49.95  \n",
       "1007  2017-08-08T01:06:48.327+00:00       32.39  \n",
       "2194  2017-08-08T19:33:15.133+00:00       32.24  \n",
       "1958  2017-08-08T23:25:06.717+00:00       94.93  \n",
       "3103  2017-08-08T04:36:55.953+00:00      102.19  \n",
       "258   2017-08-08T04:29:01.977+00:00       61.01  \n",
       "2459  2017-08-08T19:47:18.820+00:00       65.12  \n",
       "1800  2017-08-08T23:04:48.933+00:00      117.06  "
      ]
     },
     "execution_count": 8,
     "metadata": {},
     "output_type": "execute_result"
    }
   ],
   "source": [
    "##note the pd.merge function allows you to join on both left and right matches which produces the same output in this\n",
    "##exercise as an inner join.\n",
    "\n",
    "data_merge = pd.merge(geography, prices, left_on='orderid', right_on='orderid')\n",
    "data_merge.sample(n=10)"
   ]
  },
  {
   "cell_type": "code",
   "execution_count": 9,
   "metadata": {},
   "outputs": [
    {
     "data": {
      "text/html": [
       "<div>\n",
       "<table border=\"1\" class=\"dataframe\">\n",
       "  <thead>\n",
       "    <tr style=\"text-align: right;\">\n",
       "      <th></th>\n",
       "      <th>orderid</th>\n",
       "      <th>latitude</th>\n",
       "      <th>longitude</th>\n",
       "      <th>estimateddeliverytime</th>\n",
       "      <th>deliveredat</th>\n",
       "      <th>totalprice</th>\n",
       "    </tr>\n",
       "  </thead>\n",
       "  <tbody>\n",
       "    <tr>\n",
       "      <th>1490</th>\n",
       "      <td>1553253</td>\n",
       "      <td>37.723613</td>\n",
       "      <td>-122.467317</td>\n",
       "      <td>109.0</td>\n",
       "      <td>2017-08-08T01:52:08.160+00:00</td>\n",
       "      <td>49.07</td>\n",
       "    </tr>\n",
       "    <tr>\n",
       "      <th>2480</th>\n",
       "      <td>1553101</td>\n",
       "      <td>33.887115</td>\n",
       "      <td>-118.375546</td>\n",
       "      <td>1.0</td>\n",
       "      <td>2017-08-08T01:26:13.077+00:00</td>\n",
       "      <td>60.69</td>\n",
       "    </tr>\n",
       "    <tr>\n",
       "      <th>831</th>\n",
       "      <td>1555986</td>\n",
       "      <td>36.969826</td>\n",
       "      <td>-121.902094</td>\n",
       "      <td>147.0</td>\n",
       "      <td>2017-08-08T23:37:22.497+00:00</td>\n",
       "      <td>122.55</td>\n",
       "    </tr>\n",
       "    <tr>\n",
       "      <th>1700</th>\n",
       "      <td>1555722</td>\n",
       "      <td>33.860491</td>\n",
       "      <td>-118.397684</td>\n",
       "      <td>207.0</td>\n",
       "      <td>2017-08-08T21:31:55.573+00:00</td>\n",
       "      <td>56.39</td>\n",
       "    </tr>\n",
       "    <tr>\n",
       "      <th>560</th>\n",
       "      <td>1553173</td>\n",
       "      <td>37.783141</td>\n",
       "      <td>-122.444213</td>\n",
       "      <td>203.0</td>\n",
       "      <td>2017-08-08T01:40:11.460+00:00</td>\n",
       "      <td>154.59</td>\n",
       "    </tr>\n",
       "    <tr>\n",
       "      <th>1168</th>\n",
       "      <td>1556122</td>\n",
       "      <td>37.526527</td>\n",
       "      <td>-122.349664</td>\n",
       "      <td>3.0</td>\n",
       "      <td>2017-08-08T23:11:16.043+00:00</td>\n",
       "      <td>40.82</td>\n",
       "    </tr>\n",
       "    <tr>\n",
       "      <th>2912</th>\n",
       "      <td>1553851</td>\n",
       "      <td>32.760731</td>\n",
       "      <td>-117.144925</td>\n",
       "      <td>190.0</td>\n",
       "      <td>2017-08-08T03:03:03.730+00:00</td>\n",
       "      <td>33.41</td>\n",
       "    </tr>\n",
       "    <tr>\n",
       "      <th>2623</th>\n",
       "      <td>1555313</td>\n",
       "      <td>34.008046</td>\n",
       "      <td>-118.490338</td>\n",
       "      <td>118.0</td>\n",
       "      <td>2017-08-08T18:26:34.190+00:00</td>\n",
       "      <td>88.00</td>\n",
       "    </tr>\n",
       "    <tr>\n",
       "      <th>2210</th>\n",
       "      <td>1556257</td>\n",
       "      <td>37.349604</td>\n",
       "      <td>-121.952716</td>\n",
       "      <td>146.0</td>\n",
       "      <td>2017-08-08T23:43:37.027+00:00</td>\n",
       "      <td>51.31</td>\n",
       "    </tr>\n",
       "    <tr>\n",
       "      <th>2820</th>\n",
       "      <td>1553044</td>\n",
       "      <td>32.758369</td>\n",
       "      <td>-117.145372</td>\n",
       "      <td>191.0</td>\n",
       "      <td>2017-08-08T01:36:43.397+00:00</td>\n",
       "      <td>41.68</td>\n",
       "    </tr>\n",
       "  </tbody>\n",
       "</table>\n",
       "</div>"
      ],
      "text/plain": [
       "      orderid   latitude   longitude  estimateddeliverytime  \\\n",
       "1490  1553253  37.723613 -122.467317                  109.0   \n",
       "2480  1553101  33.887115 -118.375546                    1.0   \n",
       "831   1555986  36.969826 -121.902094                  147.0   \n",
       "1700  1555722  33.860491 -118.397684                  207.0   \n",
       "560   1553173  37.783141 -122.444213                  203.0   \n",
       "1168  1556122  37.526527 -122.349664                    3.0   \n",
       "2912  1553851  32.760731 -117.144925                  190.0   \n",
       "2623  1555313  34.008046 -118.490338                  118.0   \n",
       "2210  1556257  37.349604 -121.952716                  146.0   \n",
       "2820  1553044  32.758369 -117.145372                  191.0   \n",
       "\n",
       "                        deliveredat  totalprice  \n",
       "1490  2017-08-08T01:52:08.160+00:00       49.07  \n",
       "2480  2017-08-08T01:26:13.077+00:00       60.69  \n",
       "831   2017-08-08T23:37:22.497+00:00      122.55  \n",
       "1700  2017-08-08T21:31:55.573+00:00       56.39  \n",
       "560   2017-08-08T01:40:11.460+00:00      154.59  \n",
       "1168  2017-08-08T23:11:16.043+00:00       40.82  \n",
       "2912  2017-08-08T03:03:03.730+00:00       33.41  \n",
       "2623  2017-08-08T18:26:34.190+00:00       88.00  \n",
       "2210  2017-08-08T23:43:37.027+00:00       51.31  \n",
       "2820  2017-08-08T01:36:43.397+00:00       41.68  "
      ]
     },
     "execution_count": 9,
     "metadata": {},
     "output_type": "execute_result"
    }
   ],
   "source": [
    "data_right = pd.merge(geography,prices, on = 'orderid', how ='right')\n",
    "data_right.sample(n=10)"
   ]
  },
  {
   "cell_type": "code",
   "execution_count": 10,
   "metadata": {},
   "outputs": [
    {
     "data": {
      "text/html": [
       "<div>\n",
       "<table border=\"1\" class=\"dataframe\">\n",
       "  <thead>\n",
       "    <tr style=\"text-align: right;\">\n",
       "      <th></th>\n",
       "      <th>orderid</th>\n",
       "      <th>latitude</th>\n",
       "      <th>longitude</th>\n",
       "      <th>estimateddeliverytime</th>\n",
       "      <th>deliveredat</th>\n",
       "      <th>totalprice</th>\n",
       "    </tr>\n",
       "  </thead>\n",
       "  <tbody>\n",
       "    <tr>\n",
       "      <th>1542</th>\n",
       "      <td>1553567</td>\n",
       "      <td>37.493378</td>\n",
       "      <td>-122.276848</td>\n",
       "      <td>46.0</td>\n",
       "      <td>2017-08-08T02:53:12.617+00:00</td>\n",
       "      <td>65.37</td>\n",
       "    </tr>\n",
       "    <tr>\n",
       "      <th>394</th>\n",
       "      <td>1554715</td>\n",
       "      <td>37.863273</td>\n",
       "      <td>-122.290610</td>\n",
       "      <td>48.0</td>\n",
       "      <td>2017-08-08T05:13:16.667+00:00</td>\n",
       "      <td>35.28</td>\n",
       "    </tr>\n",
       "    <tr>\n",
       "      <th>887</th>\n",
       "      <td>1553747</td>\n",
       "      <td>37.763424</td>\n",
       "      <td>-122.506884</td>\n",
       "      <td>288.0</td>\n",
       "      <td>2017-08-08T03:13:09.267+00:00</td>\n",
       "      <td>85.40</td>\n",
       "    </tr>\n",
       "    <tr>\n",
       "      <th>39</th>\n",
       "      <td>1554160</td>\n",
       "      <td>37.355196</td>\n",
       "      <td>-121.826572</td>\n",
       "      <td>145.0</td>\n",
       "      <td>2017-08-08T03:55:27.593+00:00</td>\n",
       "      <td>45.61</td>\n",
       "    </tr>\n",
       "    <tr>\n",
       "      <th>2044</th>\n",
       "      <td>1555234</td>\n",
       "      <td>37.561588</td>\n",
       "      <td>-122.294554</td>\n",
       "      <td>194.0</td>\n",
       "      <td>2017-08-08T18:08:28.270+00:00</td>\n",
       "      <td>42.46</td>\n",
       "    </tr>\n",
       "    <tr>\n",
       "      <th>1342</th>\n",
       "      <td>1552911</td>\n",
       "      <td>37.783779</td>\n",
       "      <td>-122.470599</td>\n",
       "      <td>140.0</td>\n",
       "      <td>2017-08-08T01:06:25.360+00:00</td>\n",
       "      <td>33.58</td>\n",
       "    </tr>\n",
       "    <tr>\n",
       "      <th>723</th>\n",
       "      <td>1556218</td>\n",
       "      <td>37.864417</td>\n",
       "      <td>-122.267863</td>\n",
       "      <td>258.0</td>\n",
       "      <td>2017-08-08T23:32:46.913+00:00</td>\n",
       "      <td>45.10</td>\n",
       "    </tr>\n",
       "    <tr>\n",
       "      <th>3794</th>\n",
       "      <td>1552478</td>\n",
       "      <td>NaN</td>\n",
       "      <td>NaN</td>\n",
       "      <td>NaN</td>\n",
       "      <td>2017-08-08T00:23:02.547+00:00</td>\n",
       "      <td>53.93</td>\n",
       "    </tr>\n",
       "    <tr>\n",
       "      <th>1778</th>\n",
       "      <td>1556032</td>\n",
       "      <td>37.779734</td>\n",
       "      <td>-122.469886</td>\n",
       "      <td>142.0</td>\n",
       "      <td>2017-08-08T23:03:28.250+00:00</td>\n",
       "      <td>92.33</td>\n",
       "    </tr>\n",
       "    <tr>\n",
       "      <th>3336</th>\n",
       "      <td>1553081</td>\n",
       "      <td>37.625153</td>\n",
       "      <td>-122.416151</td>\n",
       "      <td>122.0</td>\n",
       "      <td>2017-08-08T01:31:50.983+00:00</td>\n",
       "      <td>89.88</td>\n",
       "    </tr>\n",
       "  </tbody>\n",
       "</table>\n",
       "</div>"
      ],
      "text/plain": [
       "      orderid   latitude   longitude  estimateddeliverytime  \\\n",
       "1542  1553567  37.493378 -122.276848                   46.0   \n",
       "394   1554715  37.863273 -122.290610                   48.0   \n",
       "887   1553747  37.763424 -122.506884                  288.0   \n",
       "39    1554160  37.355196 -121.826572                  145.0   \n",
       "2044  1555234  37.561588 -122.294554                  194.0   \n",
       "1342  1552911  37.783779 -122.470599                  140.0   \n",
       "723   1556218  37.864417 -122.267863                  258.0   \n",
       "3794  1552478        NaN         NaN                    NaN   \n",
       "1778  1556032  37.779734 -122.469886                  142.0   \n",
       "3336  1553081  37.625153 -122.416151                  122.0   \n",
       "\n",
       "                        deliveredat  totalprice  \n",
       "1542  2017-08-08T02:53:12.617+00:00       65.37  \n",
       "394   2017-08-08T05:13:16.667+00:00       35.28  \n",
       "887   2017-08-08T03:13:09.267+00:00       85.40  \n",
       "39    2017-08-08T03:55:27.593+00:00       45.61  \n",
       "2044  2017-08-08T18:08:28.270+00:00       42.46  \n",
       "1342  2017-08-08T01:06:25.360+00:00       33.58  \n",
       "723   2017-08-08T23:32:46.913+00:00       45.10  \n",
       "3794  2017-08-08T00:23:02.547+00:00       53.93  \n",
       "1778  2017-08-08T23:03:28.250+00:00       92.33  \n",
       "3336  2017-08-08T01:31:50.983+00:00       89.88  "
      ]
     },
     "execution_count": 10,
     "metadata": {},
     "output_type": "execute_result"
    }
   ],
   "source": [
    "dat_full = pd.merge(geography, prices, on ='orderid', how = 'outer')\n",
    "data_full.sample(n=10)"
   ]
  },
  {
   "cell_type": "markdown",
   "metadata": {},
   "source": [
    "So, now we can see the three new DFs created from the joins we just did (inner, full outer, right) were done correctly because in our random sampled results you see null values for lat, long and delivery time where there was no order_id match in data_right and null values for either lat,long, delivery time *or* delivery date, total price for data_full.  \n",
    "\n",
    "data_merge may have null values, but not for the same reason: they appeared naturally in the data.  Speaking of the data, this is a good time to start looking through it."
   ]
  },
  {
   "cell_type": "markdown",
   "metadata": {},
   "source": [
    "## 2. Adding in some External Data Sources"
   ]
  },
  {
   "cell_type": "markdown",
   "metadata": {},
   "source": [
    "The current dataset has some valuable information, but it is also missing some that would be very useful for a business-oriented analysis:\n",
    "\n",
    "* Order timestamps\n",
    "* Human-readable Full addresses/zipcodes of orders\n",
    "* Any demographic information at all about the purchaser\n",
    "\n",
    "I chose to augment the dataset with zipcodes and SF neighborhood names in an attempt to make a future classification task more robust.\n",
    "\n",
    "To do this, I utilized the Geocoder library which calls Google's maps API to perform reverse geocoding.  Then I matched resulting addresses to the data."
   ]
  },
  {
   "cell_type": "code",
   "execution_count": 387,
   "metadata": {
    "collapsed": true
   },
   "outputs": [],
   "source": [
    "##set up geocoder\n",
    "Data_Geocoder = Geocoder(api_key='MY API_KEY WOULD GO HERE')"
   ]
  },
  {
   "cell_type": "code",
   "execution_count": 391,
   "metadata": {
    "collapsed": true
   },
   "outputs": [],
   "source": [
    "#Add fully formatted address to each row.  This results in thousands of API calls, so it's pretty slow.\n",
    "j = 0\n",
    "for j in range(0,len(data_merge)):\n",
    "    data_merge.set_value(j,'address', \n",
    "                         Data_Geocoder.reverse_geocode(eaze_merge['latitude'][j],eaze_merge['longitude'][j]).formatted_address)"
   ]
  },
  {
   "cell_type": "code",
   "execution_count": 13,
   "metadata": {
    "collapsed": true
   },
   "outputs": [],
   "source": [
    "#create a new DF to further upgrade.  The following line is commented out in order to save network/computational time\n",
    "#I just save the results of the previous cell into a local csv\n",
    "\n",
    "#data_merge_enhanced = data_merge\n",
    "\n",
    "data_merge_enhanced = pd.read_csv('data_merge_enhanced.csv')"
   ]
  },
  {
   "cell_type": "code",
   "execution_count": 14,
   "metadata": {
    "collapsed": true
   },
   "outputs": [],
   "source": [
    "#extract Zipcodes\n",
    "address = data_merge_enhanced['address']\n",
    "i = 0\n",
    "for i in range(0,len(data_merge_enhanced)):\n",
    "    data_merge_enhanced.set_value(i,'zipcode', re.search('(\\d{5})([- ])?(\\d{4})?', address[i]).group(0) )"
   ]
  },
  {
   "cell_type": "code",
   "execution_count": 15,
   "metadata": {
    "collapsed": true
   },
   "outputs": [],
   "source": [
    "#create a SF neighborhoods database from here: http://www.healthysf.org/bdi/outcomes/index.html\n",
    "\n",
    "sf_zipdata = [[94102, 'Hayes Valley/Tenderloin/North of Market'], [94103,'South of Market'],\n",
    "             [94107,'Potrero Hill'],[94108,'Chinatown'],[94109, 'Polk/Russian Hill (Nob Hill)'], \n",
    "             [94110,'Inner Mission/Bernal Heights'], [94112, 'Ingelside-Excelsior/Crocker-Amazon'],\n",
    "             [94114, 'Castro/Noe Valley'], [94115, 'Western Addition/Japantown'], [94116, 'Parkside/Forest Hill'],\n",
    "             [94117,'Haight-Ashbury'], [94118, 'Inner Richmond' ], [94121, 'Outer Richmond' ], [94122, 'Sunset'],\n",
    "             [94123, 'Marina'], [94124, 'Bayview-Hunters Point' ], [94127, 'St. Francis Wood/Miraloma/West Portal'],\n",
    "             [94131, 'Twin Peaks-Glen Park'], [94132, 'Lake Merced' ], [94133, 'North Beach/Chinatown'], \n",
    "             [94134, 'Visitacion Valley/Sunnydale']]\n",
    "\n",
    "sf_labels = ['zipcode', 'neighborhood']"
   ]
  },
  {
   "cell_type": "code",
   "execution_count": 16,
   "metadata": {
    "collapsed": true
   },
   "outputs": [],
   "source": [
    "sf_neighborhoods = pd.DataFrame.from_records(sf_zipdata, columns = sf_labels)"
   ]
  },
  {
   "cell_type": "code",
   "execution_count": 17,
   "metadata": {
    "collapsed": true
   },
   "outputs": [],
   "source": [
    "sf_neighborhoods['zipcode'] = sf_neighborhoods['zipcode'].astype(str)"
   ]
  },
  {
   "cell_type": "code",
   "execution_count": 18,
   "metadata": {},
   "outputs": [
    {
     "data": {
      "text/html": [
       "<div>\n",
       "<table border=\"1\" class=\"dataframe\">\n",
       "  <thead>\n",
       "    <tr style=\"text-align: right;\">\n",
       "      <th></th>\n",
       "      <th>zipcode</th>\n",
       "      <th>neighborhood</th>\n",
       "    </tr>\n",
       "  </thead>\n",
       "  <tbody>\n",
       "    <tr>\n",
       "      <th>0</th>\n",
       "      <td>94102</td>\n",
       "      <td>Hayes Valley/Tenderloin/North of Market</td>\n",
       "    </tr>\n",
       "    <tr>\n",
       "      <th>1</th>\n",
       "      <td>94103</td>\n",
       "      <td>South of Market</td>\n",
       "    </tr>\n",
       "    <tr>\n",
       "      <th>2</th>\n",
       "      <td>94107</td>\n",
       "      <td>Potrero Hill</td>\n",
       "    </tr>\n",
       "    <tr>\n",
       "      <th>3</th>\n",
       "      <td>94108</td>\n",
       "      <td>Chinatown</td>\n",
       "    </tr>\n",
       "    <tr>\n",
       "      <th>4</th>\n",
       "      <td>94109</td>\n",
       "      <td>Polk/Russian Hill (Nob Hill)</td>\n",
       "    </tr>\n",
       "    <tr>\n",
       "      <th>5</th>\n",
       "      <td>94110</td>\n",
       "      <td>Inner Mission/Bernal Heights</td>\n",
       "    </tr>\n",
       "    <tr>\n",
       "      <th>6</th>\n",
       "      <td>94112</td>\n",
       "      <td>Ingelside-Excelsior/Crocker-Amazon</td>\n",
       "    </tr>\n",
       "    <tr>\n",
       "      <th>7</th>\n",
       "      <td>94114</td>\n",
       "      <td>Castro/Noe Valley</td>\n",
       "    </tr>\n",
       "    <tr>\n",
       "      <th>8</th>\n",
       "      <td>94115</td>\n",
       "      <td>Western Addition/Japantown</td>\n",
       "    </tr>\n",
       "    <tr>\n",
       "      <th>9</th>\n",
       "      <td>94116</td>\n",
       "      <td>Parkside/Forest Hill</td>\n",
       "    </tr>\n",
       "    <tr>\n",
       "      <th>10</th>\n",
       "      <td>94117</td>\n",
       "      <td>Haight-Ashbury</td>\n",
       "    </tr>\n",
       "    <tr>\n",
       "      <th>11</th>\n",
       "      <td>94118</td>\n",
       "      <td>Inner Richmond</td>\n",
       "    </tr>\n",
       "    <tr>\n",
       "      <th>12</th>\n",
       "      <td>94121</td>\n",
       "      <td>Outer Richmond</td>\n",
       "    </tr>\n",
       "    <tr>\n",
       "      <th>13</th>\n",
       "      <td>94122</td>\n",
       "      <td>Sunset</td>\n",
       "    </tr>\n",
       "    <tr>\n",
       "      <th>14</th>\n",
       "      <td>94123</td>\n",
       "      <td>Marina</td>\n",
       "    </tr>\n",
       "    <tr>\n",
       "      <th>15</th>\n",
       "      <td>94124</td>\n",
       "      <td>Bayview-Hunters Point</td>\n",
       "    </tr>\n",
       "    <tr>\n",
       "      <th>16</th>\n",
       "      <td>94127</td>\n",
       "      <td>St. Francis Wood/Miraloma/West Portal</td>\n",
       "    </tr>\n",
       "    <tr>\n",
       "      <th>17</th>\n",
       "      <td>94131</td>\n",
       "      <td>Twin Peaks-Glen Park</td>\n",
       "    </tr>\n",
       "    <tr>\n",
       "      <th>18</th>\n",
       "      <td>94132</td>\n",
       "      <td>Lake Merced</td>\n",
       "    </tr>\n",
       "    <tr>\n",
       "      <th>19</th>\n",
       "      <td>94133</td>\n",
       "      <td>North Beach/Chinatown</td>\n",
       "    </tr>\n",
       "    <tr>\n",
       "      <th>20</th>\n",
       "      <td>94134</td>\n",
       "      <td>Visitacion Valley/Sunnydale</td>\n",
       "    </tr>\n",
       "  </tbody>\n",
       "</table>\n",
       "</div>"
      ],
      "text/plain": [
       "   zipcode                             neighborhood\n",
       "0    94102  Hayes Valley/Tenderloin/North of Market\n",
       "1    94103                          South of Market\n",
       "2    94107                             Potrero Hill\n",
       "3    94108                                Chinatown\n",
       "4    94109             Polk/Russian Hill (Nob Hill)\n",
       "5    94110             Inner Mission/Bernal Heights\n",
       "6    94112       Ingelside-Excelsior/Crocker-Amazon\n",
       "7    94114                        Castro/Noe Valley\n",
       "8    94115               Western Addition/Japantown\n",
       "9    94116                     Parkside/Forest Hill\n",
       "10   94117                           Haight-Ashbury\n",
       "11   94118                           Inner Richmond\n",
       "12   94121                           Outer Richmond\n",
       "13   94122                                   Sunset\n",
       "14   94123                                   Marina\n",
       "15   94124                    Bayview-Hunters Point\n",
       "16   94127    St. Francis Wood/Miraloma/West Portal\n",
       "17   94131                     Twin Peaks-Glen Park\n",
       "18   94132                              Lake Merced\n",
       "19   94133                    North Beach/Chinatown\n",
       "20   94134              Visitacion Valley/Sunnydale"
      ]
     },
     "execution_count": 18,
     "metadata": {},
     "output_type": "execute_result"
    }
   ],
   "source": [
    "sf_neighborhoods"
   ]
  },
  {
   "cell_type": "code",
   "execution_count": 19,
   "metadata": {
    "collapsed": true
   },
   "outputs": [],
   "source": [
    "##perform left join data_merge, sf_neighborhoods on zipcode\n",
    "data_merge_enhanced_neigh = pd.merge(eaze_merge_enhanced,sf_neighborhoods, how='left', on='zipcode')"
   ]
  },
  {
   "cell_type": "code",
   "execution_count": 21,
   "metadata": {
    "collapsed": true
   },
   "outputs": [],
   "source": [
    "##reduce the really annoying longform zipcode format (XXXXX-XXXX) to simple 5 digits (XXXXX)\n",
    "for k in range(0,len(data_merge_enhanced)):\n",
    "    data_merge_enhanced_neigh.set_value(k, 'zipcode' , data_merge_enhanced_neigh.zipcode[k][-5:])"
   ]
  },
  {
   "cell_type": "code",
   "execution_count": 22,
   "metadata": {
    "collapsed": true
   },
   "outputs": [],
   "source": [
    "data_merge_enhanced_neigh['zipcode'] = data_merge_enhanced_neigh['zipcode'].astype(int)"
   ]
  },
  {
   "cell_type": "code",
   "execution_count": 23,
   "metadata": {
    "scrolled": true
   },
   "outputs": [
    {
     "data": {
      "text/html": [
       "<div>\n",
       "<table border=\"1\" class=\"dataframe\">\n",
       "  <thead>\n",
       "    <tr style=\"text-align: right;\">\n",
       "      <th></th>\n",
       "      <th>Unnamed: 0</th>\n",
       "      <th>orderid</th>\n",
       "      <th>latitude</th>\n",
       "      <th>longitude</th>\n",
       "      <th>estimateddeliverytime</th>\n",
       "      <th>deliveredat</th>\n",
       "      <th>totalprice</th>\n",
       "      <th>address</th>\n",
       "      <th>zipcode</th>\n",
       "      <th>neighborhood</th>\n",
       "    </tr>\n",
       "  </thead>\n",
       "  <tbody>\n",
       "    <tr>\n",
       "      <th>3178</th>\n",
       "      <td>3178</td>\n",
       "      <td>1555236</td>\n",
       "      <td>37.782489</td>\n",
       "      <td>-122.188599</td>\n",
       "      <td>216.0</td>\n",
       "      <td>2017-08-08T17:23:49.333+00:00</td>\n",
       "      <td>50.48</td>\n",
       "      <td>18 Wyman Pl, Oakland, CA 94619, USA</td>\n",
       "      <td>94619</td>\n",
       "      <td>NaN</td>\n",
       "    </tr>\n",
       "    <tr>\n",
       "      <th>2607</th>\n",
       "      <td>2607</td>\n",
       "      <td>1554446</td>\n",
       "      <td>37.843048</td>\n",
       "      <td>-122.296374</td>\n",
       "      <td>199.0</td>\n",
       "      <td>2017-08-08T04:17:00.517+00:00</td>\n",
       "      <td>53.78</td>\n",
       "      <td>6399 Christie Ave, Emeryville, CA 94608, USA</td>\n",
       "      <td>94608</td>\n",
       "      <td>NaN</td>\n",
       "    </tr>\n",
       "    <tr>\n",
       "      <th>879</th>\n",
       "      <td>879</td>\n",
       "      <td>1554703</td>\n",
       "      <td>37.780102</td>\n",
       "      <td>-122.405339</td>\n",
       "      <td>327.0</td>\n",
       "      <td>2017-08-08T04:54:59.317+00:00</td>\n",
       "      <td>63.31</td>\n",
       "      <td>445 Tehama St, San Francisco, CA 94103, USA</td>\n",
       "      <td>94103</td>\n",
       "      <td>South of Market</td>\n",
       "    </tr>\n",
       "    <tr>\n",
       "      <th>3196</th>\n",
       "      <td>3196</td>\n",
       "      <td>1555966</td>\n",
       "      <td>37.679951</td>\n",
       "      <td>-122.404196</td>\n",
       "      <td>177.0</td>\n",
       "      <td>2017-08-08T22:41:38.120+00:00</td>\n",
       "      <td>86.79</td>\n",
       "      <td>425 Sierra Point Rd, Brisbane, CA 94005, USA</td>\n",
       "      <td>94005</td>\n",
       "      <td>NaN</td>\n",
       "    </tr>\n",
       "    <tr>\n",
       "      <th>1706</th>\n",
       "      <td>1706</td>\n",
       "      <td>1555984</td>\n",
       "      <td>37.786067</td>\n",
       "      <td>-122.409252</td>\n",
       "      <td>55.0</td>\n",
       "      <td>2017-08-08T23:03:21.673+00:00</td>\n",
       "      <td>75.47</td>\n",
       "      <td>222 Mason St, San Francisco, CA 94102, USA</td>\n",
       "      <td>94102</td>\n",
       "      <td>Hayes Valley/Tenderloin/North of Market</td>\n",
       "    </tr>\n",
       "  </tbody>\n",
       "</table>\n",
       "</div>"
      ],
      "text/plain": [
       "      Unnamed: 0  orderid   latitude   longitude  estimateddeliverytime  \\\n",
       "3178        3178  1555236  37.782489 -122.188599                  216.0   \n",
       "2607        2607  1554446  37.843048 -122.296374                  199.0   \n",
       "879          879  1554703  37.780102 -122.405339                  327.0   \n",
       "3196        3196  1555966  37.679951 -122.404196                  177.0   \n",
       "1706        1706  1555984  37.786067 -122.409252                   55.0   \n",
       "\n",
       "                        deliveredat  totalprice  \\\n",
       "3178  2017-08-08T17:23:49.333+00:00       50.48   \n",
       "2607  2017-08-08T04:17:00.517+00:00       53.78   \n",
       "879   2017-08-08T04:54:59.317+00:00       63.31   \n",
       "3196  2017-08-08T22:41:38.120+00:00       86.79   \n",
       "1706  2017-08-08T23:03:21.673+00:00       75.47   \n",
       "\n",
       "                                           address  zipcode  \\\n",
       "3178           18 Wyman Pl, Oakland, CA 94619, USA    94619   \n",
       "2607  6399 Christie Ave, Emeryville, CA 94608, USA    94608   \n",
       "879    445 Tehama St, San Francisco, CA 94103, USA    94103   \n",
       "3196  425 Sierra Point Rd, Brisbane, CA 94005, USA    94005   \n",
       "1706    222 Mason St, San Francisco, CA 94102, USA    94102   \n",
       "\n",
       "                                 neighborhood  \n",
       "3178                                      NaN  \n",
       "2607                                      NaN  \n",
       "879                           South of Market  \n",
       "3196                                      NaN  \n",
       "1706  Hayes Valley/Tenderloin/North of Market  "
      ]
     },
     "execution_count": 23,
     "metadata": {},
     "output_type": "execute_result"
    }
   ],
   "source": [
    "data_merge_enhanced_neigh.sample(n=5)"
   ]
  },
  {
   "cell_type": "code",
   "execution_count": 24,
   "metadata": {
    "collapsed": true
   },
   "outputs": [],
   "source": [
    "\n",
    "\n",
    "#Handle Dates, coerced into a new column with West Coast timezone and the appropriate format \n",
    "\n",
    "data_merge_enhanced_neigh['Date'] = pd.to_datetime(data_merge_enhanced_neigh['deliveredat'],\n",
    "                                                                          errors='coerce')\n",
    "\n",
    "data_merge_enhanced_neigh['Date'] = data_merge_enhanced_neigh['Date'].dt.tz_localize('UTC').dt.tz_convert('US/Pacific')\n"
   ]
  },
  {
   "cell_type": "code",
   "execution_count": 28,
   "metadata": {
    "collapsed": true
   },
   "outputs": [],
   "source": [
    "#As it turns out, the timestamp doesn't become relevant until the hour of purchase\n",
    "data_merge_enhanced_neigh['year'] = data_merge_enhanced_neigh['Date'].dt.year\n",
    "data_merge_enhanced_neigh['month'] = data_merge_enhanced_neigh['Date'].dt.month\n",
    "data_merge_enhanced_neigh['day'] = data_merge_enhanced_neigh['Date'].dt.day\n",
    "data_merge_enhanced_neigh['hour'] = data_merge_enhanced_neigh['Date'].dt.hour\n",
    "data_merge_enhanced_neigh['minute'] = data_merge_enhanced_neigh['Date'].dt.minute"
   ]
  },
  {
   "cell_type": "code",
   "execution_count": 29,
   "metadata": {
    "scrolled": true
   },
   "outputs": [
    {
     "data": {
      "text/html": [
       "<div>\n",
       "<table border=\"1\" class=\"dataframe\">\n",
       "  <thead>\n",
       "    <tr style=\"text-align: right;\">\n",
       "      <th></th>\n",
       "      <th>Unnamed: 0</th>\n",
       "      <th>orderid</th>\n",
       "      <th>latitude</th>\n",
       "      <th>longitude</th>\n",
       "      <th>estimateddeliverytime</th>\n",
       "      <th>deliveredat</th>\n",
       "      <th>totalprice</th>\n",
       "      <th>address</th>\n",
       "      <th>zipcode</th>\n",
       "      <th>neighborhood</th>\n",
       "      <th>Date</th>\n",
       "      <th>year</th>\n",
       "      <th>month</th>\n",
       "      <th>day</th>\n",
       "      <th>hour</th>\n",
       "      <th>minute</th>\n",
       "    </tr>\n",
       "  </thead>\n",
       "  <tbody>\n",
       "    <tr>\n",
       "      <th>2719</th>\n",
       "      <td>2719</td>\n",
       "      <td>1556109</td>\n",
       "      <td>37.448893</td>\n",
       "      <td>-122.157598</td>\n",
       "      <td>82.0</td>\n",
       "      <td>2017-08-08T23:24:11.937+00:00</td>\n",
       "      <td>33.40</td>\n",
       "      <td>530 Webster St, Palo Alto, CA 94301, USA</td>\n",
       "      <td>94301</td>\n",
       "      <td>NaN</td>\n",
       "      <td>2017-08-08 16:24:11.937000-07:00</td>\n",
       "      <td>2017</td>\n",
       "      <td>8</td>\n",
       "      <td>8</td>\n",
       "      <td>16</td>\n",
       "      <td>24</td>\n",
       "    </tr>\n",
       "    <tr>\n",
       "      <th>267</th>\n",
       "      <td>267</td>\n",
       "      <td>1554995</td>\n",
       "      <td>37.771020</td>\n",
       "      <td>-122.425347</td>\n",
       "      <td>11.0</td>\n",
       "      <td>2017-08-08T06:07:09.243+00:00</td>\n",
       "      <td>45.97</td>\n",
       "      <td>55 Laguna St, San Francisco, CA 94102, USA</td>\n",
       "      <td>94102</td>\n",
       "      <td>Hayes Valley/Tenderloin/North of Market</td>\n",
       "      <td>2017-08-07 23:07:09.243000-07:00</td>\n",
       "      <td>2017</td>\n",
       "      <td>8</td>\n",
       "      <td>7</td>\n",
       "      <td>23</td>\n",
       "      <td>7</td>\n",
       "    </tr>\n",
       "    <tr>\n",
       "      <th>1407</th>\n",
       "      <td>1407</td>\n",
       "      <td>1553130</td>\n",
       "      <td>37.761087</td>\n",
       "      <td>-122.477205</td>\n",
       "      <td>222.0</td>\n",
       "      <td>2017-08-08T01:35:09.050+00:00</td>\n",
       "      <td>56.91</td>\n",
       "      <td>1433 19th Ave, San Francisco, CA 94122, USA</td>\n",
       "      <td>94122</td>\n",
       "      <td>Sunset</td>\n",
       "      <td>2017-08-07 18:35:09.050000-07:00</td>\n",
       "      <td>2017</td>\n",
       "      <td>8</td>\n",
       "      <td>7</td>\n",
       "      <td>18</td>\n",
       "      <td>35</td>\n",
       "    </tr>\n",
       "    <tr>\n",
       "      <th>3257</th>\n",
       "      <td>3257</td>\n",
       "      <td>1555171</td>\n",
       "      <td>37.869797</td>\n",
       "      <td>-122.267582</td>\n",
       "      <td>117.0</td>\n",
       "      <td>2017-08-08T06:48:27.630+00:00</td>\n",
       "      <td>150.21</td>\n",
       "      <td>2181 Shattuck Ave, Berkeley, CA 94704, USA</td>\n",
       "      <td>94704</td>\n",
       "      <td>NaN</td>\n",
       "      <td>2017-08-07 23:48:27.630000-07:00</td>\n",
       "      <td>2017</td>\n",
       "      <td>8</td>\n",
       "      <td>7</td>\n",
       "      <td>23</td>\n",
       "      <td>48</td>\n",
       "    </tr>\n",
       "    <tr>\n",
       "      <th>3219</th>\n",
       "      <td>3219</td>\n",
       "      <td>1553311</td>\n",
       "      <td>37.759240</td>\n",
       "      <td>-122.192043</td>\n",
       "      <td>1.0</td>\n",
       "      <td>2017-08-08T02:07:58.503+00:00</td>\n",
       "      <td>82.43</td>\n",
       "      <td>1136 69th Ave, Oakland, CA 94621, USA</td>\n",
       "      <td>94621</td>\n",
       "      <td>NaN</td>\n",
       "      <td>2017-08-07 19:07:58.503000-07:00</td>\n",
       "      <td>2017</td>\n",
       "      <td>8</td>\n",
       "      <td>7</td>\n",
       "      <td>19</td>\n",
       "      <td>7</td>\n",
       "    </tr>\n",
       "  </tbody>\n",
       "</table>\n",
       "</div>"
      ],
      "text/plain": [
       "      Unnamed: 0  orderid   latitude   longitude  estimateddeliverytime  \\\n",
       "2719        2719  1556109  37.448893 -122.157598                   82.0   \n",
       "267          267  1554995  37.771020 -122.425347                   11.0   \n",
       "1407        1407  1553130  37.761087 -122.477205                  222.0   \n",
       "3257        3257  1555171  37.869797 -122.267582                  117.0   \n",
       "3219        3219  1553311  37.759240 -122.192043                    1.0   \n",
       "\n",
       "                        deliveredat  totalprice  \\\n",
       "2719  2017-08-08T23:24:11.937+00:00       33.40   \n",
       "267   2017-08-08T06:07:09.243+00:00       45.97   \n",
       "1407  2017-08-08T01:35:09.050+00:00       56.91   \n",
       "3257  2017-08-08T06:48:27.630+00:00      150.21   \n",
       "3219  2017-08-08T02:07:58.503+00:00       82.43   \n",
       "\n",
       "                                          address  zipcode  \\\n",
       "2719     530 Webster St, Palo Alto, CA 94301, USA    94301   \n",
       "267    55 Laguna St, San Francisco, CA 94102, USA    94102   \n",
       "1407  1433 19th Ave, San Francisco, CA 94122, USA    94122   \n",
       "3257   2181 Shattuck Ave, Berkeley, CA 94704, USA    94704   \n",
       "3219        1136 69th Ave, Oakland, CA 94621, USA    94621   \n",
       "\n",
       "                                 neighborhood  \\\n",
       "2719                                      NaN   \n",
       "267   Hayes Valley/Tenderloin/North of Market   \n",
       "1407                                   Sunset   \n",
       "3257                                      NaN   \n",
       "3219                                      NaN   \n",
       "\n",
       "                                 Date  year  month  day  hour  minute  \n",
       "2719 2017-08-08 16:24:11.937000-07:00  2017      8    8    16      24  \n",
       "267  2017-08-07 23:07:09.243000-07:00  2017      8    7    23       7  \n",
       "1407 2017-08-07 18:35:09.050000-07:00  2017      8    7    18      35  \n",
       "3257 2017-08-07 23:48:27.630000-07:00  2017      8    7    23      48  \n",
       "3219 2017-08-07 19:07:58.503000-07:00  2017      8    7    19       7  "
      ]
     },
     "execution_count": 29,
     "metadata": {},
     "output_type": "execute_result"
    }
   ],
   "source": [
    "data_merge_enhanced_neigh.sample(n = 5)"
   ]
  },
  {
   "cell_type": "markdown",
   "metadata": {},
   "source": [
    "## 3. Peforming Join on a live Data Pipeline"
   ]
  },
  {
   "cell_type": "markdown",
   "metadata": {},
   "source": [
    "Answering this question is a bit tough without knowning more about the  data architecture in question and specific supporting data platforms.  However, a fairly common solution to this type of data pipeline requirement includes the use of Apache Kafka to implement an automated streaming ETL process. \n",
    "\n",
    "The way that this could work at a high level, would be:\n",
    "\n",
    "  * Run a Kafka source **connector** to read data from another system (RDMBS or NoSQL data platform) \n",
    "  * Modify the data in-flight (to save on computational cost and delay) using Single Message Transforms (SMTs) before\n",
    "    writing it to a Kafka cluster\n",
    "  * Process and enrich the data from a lightweight python/java application using the Kafka Streams API (e.g. if any  \n",
    "    counts or sums are needed)\n",
    "  * Run a Kafka sink connector to write data from the Kafka cluster to the data customer-facing system (e.g. Amazon S3 \n",
    "    or GCS)\n",
    "    \n",
    "data stores and live applications could communicate with a Kafka cluster via the **Kafka Streams API**.  Depending on the how the data is to be utilized by the data application architecture, we may need to stream the data into a RESTful search engine like ElasticSearch which then would interface with data's application architecture via its own API.\n",
    "\n",
    "Kafka is just one example, but many other technical solutions exist like Amazon Kinesis.\n"
   ]
  },
  {
   "cell_type": "markdown",
   "metadata": {},
   "source": [
    "# Exploratory Data Analysis"
   ]
  },
  {
   "cell_type": "markdown",
   "metadata": {},
   "source": [
    "## DataFrame "
   ]
  },
  {
   "cell_type": "code",
   "execution_count": 30,
   "metadata": {},
   "outputs": [
    {
     "name": "stdout",
     "output_type": "stream",
     "text": [
      "eaze_merge shape: (3283, 16)\n",
      "Unnamed: 0                  0\n",
      "orderid                     0\n",
      "latitude                    0\n",
      "longitude                   0\n",
      "estimateddeliverytime       0\n",
      "deliveredat                 0\n",
      "totalprice                  0\n",
      "address                     0\n",
      "zipcode                     0\n",
      "neighborhood             2338\n",
      "Date                        0\n",
      "year                        0\n",
      "month                       0\n",
      "day                         0\n",
      "hour                        0\n",
      "minute                      0\n",
      "dtype: int64\n",
      "ease_right shape: (3352, 6)\n",
      "orderid                   0\n",
      "latitude                 69\n",
      "longitude                69\n",
      "estimateddeliverytime    69\n",
      "deliveredat               0\n",
      "totalprice                0\n",
      "dtype: int64\n",
      "eaze full shape: (3849, 6)\n",
      "orderid                    0\n",
      "latitude                  69\n",
      "longitude                 69\n",
      "estimateddeliverytime     70\n",
      "deliveredat              497\n",
      "totalprice               497\n",
      "dtype: int64\n"
     ]
    }
   ],
   "source": [
    "datasets = {'data_merge' : data_merge_enhanced_neigh, 'data_right' : data_right, 'data full' : data_full}\n",
    "\n",
    "\n",
    "\n",
    "for dataset in datasets:\n",
    "   print( dataset, 'shape:', datasets[dataset].shape )\n",
    "   print( datasets[dataset].isnull().sum())\n"
   ]
  },
  {
   "cell_type": "markdown",
   "metadata": {},
   "source": [
    "At this point, seeing that the full join only produces 566 more unique records, and the right join even less, I feel fairly confident that utilizing the merged dataframe for further analysis is a least a good start. Also it's worth noting that the secondary join that was conducted to add SF \"neighborhoods\" was only somewhat successful, producing only ~950 complete records.  \n",
    "\n",
    "So we'll continue by conducting some EDA on the **eaze_merge_enhanced_neigh** dataframe's contents specifically."
   ]
  },
  {
   "cell_type": "markdown",
   "metadata": {},
   "source": [
    "## data_merge EDA (Columns)"
   ]
  },
  {
   "cell_type": "code",
   "execution_count": 31,
   "metadata": {},
   "outputs": [
    {
     "data": {
      "image/png": "[encoded data removed]",
      "text/plain": [
       "<matplotlib.figure.Figure at 0x11a698630>"
      ]
     },
     "metadata": {},
     "output_type": "display_data"
    }
   ],
   "source": [
    "\n",
    "cmap = cm.get_cmap('gnuplot')\n",
    "scatter = pd.scatter_matrix(data_merge_enhanced_neigh[['hour','totalprice', 'estimateddeliverytime'\n",
    "                                       ]], c = data_merge_enhanced_neigh['estimateddeliverytime'], marker = 'o', s=40, hist_kwds={'bins':20}, figsize=(15,15), cmap=cmap)"
   ]
  },
  {
   "cell_type": "markdown",
   "metadata": {},
   "source": [
    "This basic bivarate scatter/histogram plot tells me a lot about what the dataset is actually **missing**, and a few hypothesis about what might be useful to explore with ML.   \n",
    "\n",
    "For starters, the latitude/longtitude fields were pretty much useless in thier unprocess form, and since the zip codes, and neighborhood locations are all string types, I can't use this plot to evaluatie.  That said, there are some interesting things to look at. \n",
    "\n",
    "First, for some reason it appears that some of the lowest price orders are taking the longest to deliver--which can't be good from a business standpoint.  \n",
    "\n",
    "Also, most of the orders seem to be happening in a fairly narrow window of time in the late afternoon-evening, which is important for a delivery service using vehicles, since that is rush-hour. See the following histogram for a deeper look.\n"
   ]
  },
  {
   "cell_type": "code",
   "execution_count": 1,
   "metadata": {},
   "outputs": [
    {
     "ename": "NameError",
     "evalue": "name 'data_merge_enhanced_neigh' is not defined",
     "output_type": "error",
     "traceback": [
      "\u001b[0;31m---------------------------------------------------------------------------\u001b[0m",
      "\u001b[0;31mNameError\u001b[0m                                 Traceback (most recent call last)",
      "\u001b[0;32m<ipython-input-1-2a51e0698948>\u001b[0m in \u001b[0;36m<module>\u001b[0;34m()\u001b[0m\n\u001b[0;32m----> 1\u001b[0;31m \u001b[0mdata_merge_enhanced_neigh\u001b[0m\u001b[0;34m.\u001b[0m\u001b[0mhist\u001b[0m\u001b[0;34m(\u001b[0m\u001b[0mcolumn\u001b[0m \u001b[0;34m=\u001b[0m \u001b[0;34m'hour'\u001b[0m\u001b[0;34m,\u001b[0m \u001b[0mbins\u001b[0m\u001b[0;34m=\u001b[0m\u001b[0;36m15\u001b[0m\u001b[0;34m)\u001b[0m\u001b[0;34m\u001b[0m\u001b[0m\n\u001b[0m",
      "\u001b[0;31mNameError\u001b[0m: name 'data_merge_enhanced_neigh' is not defined"
     ]
    }
   ],
   "source": [
    "data_merge_enhanced_neigh.hist(column = 'hour', bins=15)"
   ]
  },
  {
   "cell_type": "markdown",
   "metadata": {},
   "source": [
    "Unfortunately since all of the data is sampled from the same day, I can't compare the weekday effects, but it might be interesting to explore."
   ]
  },
  {
   "cell_type": "markdown",
   "metadata": {},
   "source": [
    "## 4. Machine Learning"
   ]
  },
  {
   "cell_type": "markdown",
   "metadata": {},
   "source": [
    "There are a lot of approaches that I could have taken here, since I know so little about the customers in this dataset, beyond their general location.  Most notably I could have attempted to train a NN to identify patterns and extract useful features to be used to train a supervised learning model.  For simplicity's (and time's) sake, I chose to move forward with two classic clustering approaches (k-means and agglomerative [hierarchical]).  \n",
    "\n",
    "It was a tough choice because the work that was done previously to enhance the dataset (adding in zipcodes and neighborhoods) will not be useful in this type of analysis since kmeans handles continuous, not categorical inputs.  Given more time, I would certainly expand my process to include additional algorithms."
   ]
  },
  {
   "cell_type": "code",
   "execution_count": 33,
   "metadata": {},
   "outputs": [
    {
     "data": {
      "text/plain": [
       "Index(['Unnamed: 0', 'orderid', 'latitude', 'longitude',\n",
       "       'estimateddeliverytime', 'deliveredat', 'totalprice', 'address',\n",
       "       'zipcode', 'neighborhood', 'Date', 'year', 'month', 'day', 'hour',\n",
       "       'minute'],\n",
       "      dtype='object')"
      ]
     },
     "execution_count": 33,
     "metadata": {},
     "output_type": "execute_result"
    }
   ],
   "source": [
    "#take a look at the feature options for training a clustering algorithm\n",
    "data_merge_enhanced_neigh.columns"
   ]
  },
  {
   "cell_type": "code",
   "execution_count": 36,
   "metadata": {
    "collapsed": true
   },
   "outputs": [],
   "source": [
    "#Set up the training set \n",
    "clmns = ['estimateddeliverytime','totalprice', 'hour','zipcode']"
   ]
  },
  {
   "cell_type": "code",
   "execution_count": 38,
   "metadata": {
    "collapsed": true
   },
   "outputs": [],
   "source": [
    "#Ensure that the data is standardized properly as Kmeans is sensitive to scale\n",
    "data_merge_enhanced_neigh_tr = eaze_merge_enhanced_neigh\n",
    "data_merge_enhanced_neigh_tr_std = stats.zscore(eaze_merge_enhanced_neigh_tr[clmns])"
   ]
  },
  {
   "cell_type": "code",
   "execution_count": 39,
   "metadata": {},
   "outputs": [
    {
     "data": {
      "image/png": "[encoded data removed]",
      "text/plain": [
       "<matplotlib.figure.Figure at 0x11ed220f0>"
      ]
     },
     "metadata": {},
     "output_type": "display_data"
    }
   ],
   "source": [
    "#Train the kmeans model, and plot a scatter plot showing cluster membership\n",
    "\n",
    "kmeans = KMeans(n_clusters=4, random_state=0).fit(data_merge_enhanced_neigh_tr_std)\n",
    "\n",
    "plot_labelled_scatter(eaze_merge_enhanced_neigh_tr_std, kmeans.labels_, \n",
    "                      ['Cluster 1', 'Cluster 2', 'Cluster 3', 'Cluster 4'])\n",
    "\n",
    "#labels = kmeans.labels_\n",
    "\n",
    "#data_merge_enhanced_neigh_tr['clusters'] = labels\n",
    "\n"
   ]
  },
  {
   "cell_type": "markdown",
   "metadata": {},
   "source": [
    "Right away we can see that kmeans does a *decent* job of assigning observations to clusters.  However, cluster 1 and 3 are so tighly packed, it's difficult to visually draw any confidence.  So I tried another method: agglomerative."
   ]
  },
  {
   "cell_type": "code",
   "execution_count": 48,
   "metadata": {},
   "outputs": [
    {
     "data": {
      "image/png": "[encoded data removed]",
      "text/plain": [
       "<matplotlib.figure.Figure at 0x11f0b0208>"
      ]
     },
     "metadata": {},
     "output_type": "display_data"
    }
   ],
   "source": [
    "from sklearn.cluster import AgglomerativeClustering\n",
    "from adspy_shared_utilities import plot_labelled_scatter\n",
    "\n",
    "cls = AgglomerativeClustering(n_clusters = 4,linkage='average')\n",
    "\n",
    "cls_assignment = cls.fit_predict(eaze_merge_enhanced_neigh_tr_std)\n",
    "\n",
    "\n",
    "plot_labelled_scatter(data_merge_enhanced_neigh_tr_std, cls_assignment, \n",
    "                     ['Cluster 1', 'Cluster 2', 'Cluster 3','Cluster 4'])\n",
    "\n",
    "labels = cls.labels_\n",
    "\n",
    "data_merge_enhanced_neigh_tr['agg_clusters'] = labels\n",
    "\n"
   ]
  },
  {
   "cell_type": "markdown",
   "metadata": {},
   "source": [
    "Much better.  This is worth carrying forward to try to develop some insight.  I'll add the cluster labels to the dataframe and then compute a matrix calculating the means for each cluster per feature."
   ]
  },
  {
   "cell_type": "code",
   "execution_count": 49,
   "metadata": {
    "collapsed": true
   },
   "outputs": [],
   "source": [
    "clmns.extend(['agg_clusters'])"
   ]
  },
  {
   "cell_type": "code",
   "execution_count": 50,
   "metadata": {},
   "outputs": [
    {
     "data": {
      "text/html": [
       "<div>\n",
       "<table border=\"1\" class=\"dataframe\">\n",
       "  <thead>\n",
       "    <tr style=\"text-align: right;\">\n",
       "      <th></th>\n",
       "      <th>estimateddeliverytime</th>\n",
       "      <th>totalprice</th>\n",
       "      <th>hour</th>\n",
       "      <th>zipcode</th>\n",
       "    </tr>\n",
       "    <tr>\n",
       "      <th>agg_clusters</th>\n",
       "      <th></th>\n",
       "      <th></th>\n",
       "      <th></th>\n",
       "      <th></th>\n",
       "    </tr>\n",
       "  </thead>\n",
       "  <tbody>\n",
       "    <tr>\n",
       "      <th>0</th>\n",
       "      <td>152.013732</td>\n",
       "      <td>68.581449</td>\n",
       "      <td>17.779371</td>\n",
       "      <td>90691.540738</td>\n",
       "    </tr>\n",
       "    <tr>\n",
       "      <th>1</th>\n",
       "      <td>154.750000</td>\n",
       "      <td>479.282500</td>\n",
       "      <td>17.000000</td>\n",
       "      <td>94572.250000</td>\n",
       "    </tr>\n",
       "    <tr>\n",
       "      <th>2</th>\n",
       "      <td>1011.000000</td>\n",
       "      <td>36.180000</td>\n",
       "      <td>21.000000</td>\n",
       "      <td>2721.000000</td>\n",
       "    </tr>\n",
       "    <tr>\n",
       "      <th>3</th>\n",
       "      <td>20.000000</td>\n",
       "      <td>764.560000</td>\n",
       "      <td>12.000000</td>\n",
       "      <td>95003.000000</td>\n",
       "    </tr>\n",
       "  </tbody>\n",
       "</table>\n",
       "</div>"
      ],
      "text/plain": [
       "              estimateddeliverytime  totalprice       hour       zipcode\n",
       "agg_clusters                                                            \n",
       "0                        152.013732   68.581449  17.779371  90691.540738\n",
       "1                        154.750000  479.282500  17.000000  94572.250000\n",
       "2                       1011.000000   36.180000  21.000000   2721.000000\n",
       "3                         20.000000  764.560000  12.000000  95003.000000"
      ]
     },
     "execution_count": 50,
     "metadata": {},
     "output_type": "execute_result"
    }
   ],
   "source": [
    "data_merge_enhanced_neigh_tr[clmns].groupby(['agg_clusters']).mean()"
   ]
  },
  {
   "cell_type": "markdown",
   "metadata": {},
   "source": [
    "Some interesting points:\n",
    "\n",
    "   * Clusters 1 and 3 have the highest average total price and most of the orders are on average around the noon and ~3:40 hours.  Right at lucnch and near quitting time.  That would be worth further analysis.  I would recommend labeling orders in these clusters as 'lunch' and 'happy hour' customers, respectively. Going forward you can use these class labels to predict using a supervized classification technique like Logistic Regression, Random Forest etc...\n",
    "   * Cluster 3 also has the lowest average delivery time.  Additional data should be collected, analyzed to determine why these orders have an advantage, and to see if it can be applied globally\n",
    "   * Conversely, cluster 0 has the highest average estimated delivery time, and some of the lowest prices of orders (as expected from the above EDA).\n",
    "   \n",
    "   "
   ]
  },
  {
   "cell_type": "code",
   "execution_count": 29,
   "metadata": {},
   "outputs": [
    {
     "data": {
      "image/png": "[encoded data removed]",
      "text/plain": [
       "<matplotlib.figure.Figure at 0x11320e128>"
      ]
     },
     "metadata": {},
     "output_type": "display_data"
    }
   ],
   "source": [
    "from scipy.cluster.hierarchy import ward, dendrogram\n",
    "plt.figure()\n",
    "dendrogram(ward(data_merge_enhanced_neigh_tr_std))\n",
    "plt.show()"
   ]
  },
  {
   "cell_type": "markdown",
   "metadata": {
    "collapsed": true
   },
   "source": [
    "This dendrogram gives us a window into the potential # of other clusters that I might want to tune the models for.  Again, anything uncovered is a potential label to be used in future modeling efforts. "
   ]
  },
  {
   "cell_type": "markdown",
   "metadata": {
    "scrolled": true
   },
   "source": [
    "## 5. Conclusion"
   ]
  },
  {
   "cell_type": "markdown",
   "metadata": {
    "collapsed": true
   },
   "source": [
    "Let's wrap up by exporting the final dataset."
   ]
  },
  {
   "cell_type": "code",
   "execution_count": 56,
   "metadata": {
    "collapsed": true
   },
   "outputs": [],
   "source": [
    "data_classes = data_merge_enhanced_neigh_tr[['orderid','agg_clusters','hour','minute','zipcode','neighborhood','estimateddeliverytime',\n",
    "                                             'totalprice']]"
   ]
  },
  {
   "cell_type": "code",
   "execution_count": 57,
   "metadata": {},
   "outputs": [
    {
     "data": {
      "text/html": [
       "<div>\n",
       "<table border=\"1\" class=\"dataframe\">\n",
       "  <thead>\n",
       "    <tr style=\"text-align: right;\">\n",
       "      <th></th>\n",
       "      <th>orderid</th>\n",
       "      <th>agg_clusters</th>\n",
       "      <th>hour</th>\n",
       "      <th>minute</th>\n",
       "      <th>zipcode</th>\n",
       "      <th>neighborhood</th>\n",
       "      <th>estimateddeliverytime</th>\n",
       "      <th>totalprice</th>\n",
       "    </tr>\n",
       "  </thead>\n",
       "  <tbody>\n",
       "    <tr>\n",
       "      <th>0</th>\n",
       "      <td>1552679</td>\n",
       "      <td>0</td>\n",
       "      <td>17</td>\n",
       "      <td>29</td>\n",
       "      <td>94015</td>\n",
       "      <td>NaN</td>\n",
       "      <td>259.0</td>\n",
       "      <td>48.36</td>\n",
       "    </tr>\n",
       "    <tr>\n",
       "      <th>1</th>\n",
       "      <td>1552697</td>\n",
       "      <td>0</td>\n",
       "      <td>17</td>\n",
       "      <td>26</td>\n",
       "      <td>94118</td>\n",
       "      <td>Inner Richmond</td>\n",
       "      <td>54.0</td>\n",
       "      <td>46.86</td>\n",
       "    </tr>\n",
       "    <tr>\n",
       "      <th>2</th>\n",
       "      <td>1552675</td>\n",
       "      <td>0</td>\n",
       "      <td>17</td>\n",
       "      <td>42</td>\n",
       "      <td>94107</td>\n",
       "      <td>Potrero Hill</td>\n",
       "      <td>228.0</td>\n",
       "      <td>64.39</td>\n",
       "    </tr>\n",
       "    <tr>\n",
       "      <th>3</th>\n",
       "      <td>1552934</td>\n",
       "      <td>0</td>\n",
       "      <td>18</td>\n",
       "      <td>13</td>\n",
       "      <td>94107</td>\n",
       "      <td>Potrero Hill</td>\n",
       "      <td>209.0</td>\n",
       "      <td>81.51</td>\n",
       "    </tr>\n",
       "    <tr>\n",
       "      <th>4</th>\n",
       "      <td>1552983</td>\n",
       "      <td>0</td>\n",
       "      <td>18</td>\n",
       "      <td>14</td>\n",
       "      <td>95112</td>\n",
       "      <td>NaN</td>\n",
       "      <td>345.0</td>\n",
       "      <td>74.80</td>\n",
       "    </tr>\n",
       "  </tbody>\n",
       "</table>\n",
       "</div>"
      ],
      "text/plain": [
       "   orderid  agg_clusters  hour  minute  zipcode    neighborhood  \\\n",
       "0  1552679             0    17      29    94015             NaN   \n",
       "1  1552697             0    17      26    94118  Inner Richmond   \n",
       "2  1552675             0    17      42    94107    Potrero Hill   \n",
       "3  1552934             0    18      13    94107    Potrero Hill   \n",
       "4  1552983             0    18      14    95112             NaN   \n",
       "\n",
       "   estimateddeliverytime  totalprice  \n",
       "0                  259.0       48.36  \n",
       "1                   54.0       46.86  \n",
       "2                  228.0       64.39  \n",
       "3                  209.0       81.51  \n",
       "4                  345.0       74.80  "
      ]
     },
     "execution_count": 57,
     "metadata": {},
     "output_type": "execute_result"
    }
   ],
   "source": [
    "data_classes.head()"
   ]
  },
  {
   "cell_type": "code",
   "execution_count": 58,
   "metadata": {
    "collapsed": true
   },
   "outputs": [],
   "source": [
    "data_classes.to_csv('eaze_solution.csv', encoding='utf-8')"
   ]
  },
  {
   "cell_type": "markdown",
   "metadata": {},
   "source": [
    "There's ultimately a lot more that I would like to do with this data, but I ran out of time.  Most notably:\n",
    "\n",
    "* Continue to iterate on clustering techniques to see if I can tighten the group--as I mentioned, Nueral Nets might be a good option with more data.\n",
    "* Create a prediction engine to classify lunch, happy hour, expensive, and cheap order types\n",
    "* Find a way to fill out the neighborhood column and provide a predictive \"smart\" heatmap view of what neighborhoods are likely to have dense order populations at a certain time\n",
    "\n",
    "I would likely be recommending a few model-enabled products or features as a result of the analysis.\n",
    "\n",
    "* Enhanced, Walmart-style transportation capacity optimization.  Use the predictive smart neighborhood heatmap to recommend loadout of  delivery cars dynamically with the optimal product mix\n",
    "* Support marketing with targeted promotion recommendations and deep customer learning (assuming additional demographic information on customers at POS\n",
    "\n",
    "I have some other ideas which require a better understanding/recommendations to the data collection pipeline.  I'd love to share them with you in person!\n",
    "\n",
    "### Justin D. Norman\n"
   ]
  },
  {
   "cell_type": "code",
   "execution_count": null,
   "metadata": {
    "collapsed": true
   },
   "outputs": [],
   "source": []
  }
 ],
 "metadata": {
  "kernelspec": {
   "display_name": "Python 3",
   "language": "python",
   "name": "python3"
  },
  "language_info": {
   "codemirror_mode": {
    "name": "ipython",
    "version": 3
   },
   "file_extension": ".py",
   "mimetype": "text/x-python",
   "name": "python",
   "nbconvert_exporter": "python",
   "pygments_lexer": "ipython3",
   "version": "3.6.3"
  }
 },
 "nbformat": 4,
 "nbformat_minor": 2
}
